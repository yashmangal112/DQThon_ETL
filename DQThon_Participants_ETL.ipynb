{
 "cells": [
  {
   "cell_type": "markdown",
   "metadata": {
    "application/vnd.databricks.v1+cell": {
     "cellMetadata": {
      "byteLimit": 2048000,
      "rowLimit": 10000
     },
     "inputWidgets": {},
     "nuid": "36220bb6-af95-45bc-9504-175757e97395",
     "showTitle": false,
     "title": ""
    }
   },
   "source": [
    "###Setup and Extract"
   ]
  },
  {
   "cell_type": "code",
   "execution_count": 0,
   "metadata": {
    "application/vnd.databricks.v1+cell": {
     "cellMetadata": {
      "byteLimit": 2048000,
      "rowLimit": 10000
     },
     "inputWidgets": {},
     "nuid": "b91c1f81-2387-4d6b-a13d-57ab10e32c37",
     "showTitle": false,
     "title": ""
    }
   },
   "outputs": [],
   "source": [
    "from pyspark.sql import SparkSession\n",
    "from pyspark.sql.functions import col, regexp_extract,regexp_replace, concat, lit, lower, date_format\n",
    "from pyspark.sql.types import StringType\n",
    "\n",
    "# Initialize Spark Session\n",
    "spark = SparkSession.builder \\\n",
    "    .appName(\"DQThon Participants ETL\") \\\n",
    "    .getOrCreate()"
   ]
  },
  {
   "cell_type": "code",
   "execution_count": 0,
   "metadata": {
    "application/vnd.databricks.v1+cell": {
     "cellMetadata": {
      "byteLimit": 2048000,
      "rowLimit": 10000
     },
     "inputWidgets": {},
     "nuid": "5a853137-e73d-489b-ab1a-0bfe93ff1b67",
     "showTitle": false,
     "title": ""
    }
   },
   "outputs": [
    {
     "output_type": "stream",
     "name": "stdout",
     "output_type": "stream",
     "text": [
      "root\n |-- participant_id: string (nullable = true)\n |-- first_name: string (nullable = true)\n |-- last_name: string (nullable = true)\n |-- birth_date: string (nullable = true)\n |-- address: string (nullable = true)\n |-- phone_number: string (nullable = true)\n |-- country: double (nullable = true)\n |-- institute: string (nullable = true)\n |-- occupation: string (nullable = true)\n |-- register_time: string (nullable = true)\n\n+--------------------+------------+------------------+-----------+--------------------+--------------------+-------------+---------+----------+-------------+\n|      participant_id|  first_name|         last_name| birth_date|             address|        phone_number|      country|institute|occupation|register_time|\n+--------------------+------------+------------------+-----------+--------------------+--------------------+-------------+---------+----------+-------------+\n|bd9b6f88-b84f-4c4...|       Citra|        Nurdiyanti|05 Feb 1991|Gg. Monginsidi No...|                null|         null|     null|      null|         null|\n|               Medan| Aceh 80734\"|   (0151) 081 2706|    Georgia|UD Prakasa Mandasari|Business Intellig...|1.617634046E9|     null|      null|         null|\n|7dfe3391-6f40-47b...|        Aris|          Setiawan|11 Jan 1993|Gg. Rajawali Timu...|                null|         null|     null|      null|         null|\n|          Prabumulih|   MA 09434\"|+62 (036) 461 7027|Korea Utara|Universitas Dipon...|   Frontend Engineer|1.617634018E9|     null|      null|         null|\n|19582d7f-b824-4fe...|    Cornelia|         Handayani|31 Jul 1993|Jalan Kebonjati N...|                null|         null|     null|      null|         null|\n+--------------------+------------+------------------+-----------+--------------------+--------------------+-------------+---------+----------+-------------+\nonly showing top 5 rows\n\n"
     ]
    }
   ],
   "source": [
    "df_participant = spark.read.csv('s3://dqthon-hackathon-data/dqthon-participants.csv', header=True, inferSchema=True)\n",
    "\n",
    "# Check schema and show first few rows\n",
    "df_participant.printSchema()\n",
    "df_participant.show(5)"
   ]
  },
  {
   "cell_type": "markdown",
   "metadata": {
    "application/vnd.databricks.v1+cell": {
     "cellMetadata": {
      "byteLimit": 2048000,
      "rowLimit": 10000
     },
     "inputWidgets": {},
     "nuid": "e0f1459c-921f-457e-b27e-7cb9331d9d3f",
     "showTitle": false,
     "title": ""
    }
   },
   "source": [
    "##Transformations"
   ]
  },
  {
   "cell_type": "markdown",
   "metadata": {
    "application/vnd.databricks.v1+cell": {
     "cellMetadata": {
      "byteLimit": 2048000,
      "rowLimit": 10000
     },
     "inputWidgets": {},
     "nuid": "f43550b7-c21d-440a-a5d6-ef5b4d413b82",
     "showTitle": false,
     "title": ""
    }
   },
   "source": [
    "####Transform Part I - Postal Code"
   ]
  },
  {
   "cell_type": "code",
   "execution_count": 0,
   "metadata": {
    "application/vnd.databricks.v1+cell": {
     "cellMetadata": {
      "byteLimit": 2048000,
      "rowLimit": 10000
     },
     "inputWidgets": {},
     "nuid": "02b34850-4016-40ee-8815-0d2593fe4c0f",
     "showTitle": false,
     "title": ""
    }
   },
   "outputs": [
    {
     "output_type": "stream",
     "name": "stdout",
     "output_type": "stream",
     "text": [
      "root\n |-- participant_id: string (nullable = true)\n |-- first_name: string (nullable = true)\n |-- last_name: string (nullable = true)\n |-- birth_date: string (nullable = true)\n |-- address: string (nullable = true)\n |-- phone_number: string (nullable = true)\n |-- country: double (nullable = true)\n |-- institute: string (nullable = true)\n |-- occupation: string (nullable = true)\n |-- register_time: string (nullable = true)\n |-- postal_code: string (nullable = true)\n\n+--------------------+------------+------------------+-----------+--------------------+--------------------+-------------+---------+----------+-------------+-----------+\n|      participant_id|  first_name|         last_name| birth_date|             address|        phone_number|      country|institute|occupation|register_time|postal_code|\n+--------------------+------------+------------------+-----------+--------------------+--------------------+-------------+---------+----------+-------------+-----------+\n|bd9b6f88-b84f-4c4...|       Citra|        Nurdiyanti|05 Feb 1991|Gg. Monginsidi No...|                null|         null|     null|      null|         null|         08|\n|               Medan| Aceh 80734\"|   (0151) 081 2706|    Georgia|UD Prakasa Mandasari|Business Intellig...|1.617634046E9|     null|      null|         null|           |\n|7dfe3391-6f40-47b...|        Aris|          Setiawan|11 Jan 1993|Gg. Rajawali Timu...|                null|         null|     null|      null|         null|          7|\n|          Prabumulih|   MA 09434\"|+62 (036) 461 7027|Korea Utara|Universitas Dipon...|   Frontend Engineer|1.617634018E9|     null|      null|         null|           |\n|19582d7f-b824-4fe...|    Cornelia|         Handayani|31 Jul 1993|Jalan Kebonjati N...|                null|         null|     null|      null|         null|          0|\n+--------------------+------------+------------------+-----------+--------------------+--------------------+-------------+---------+----------+-------------+-----------+\nonly showing top 5 rows\n\n"
     ]
    }
   ],
   "source": [
    "# Extract postal code using regex\n",
    "df_participant = df_participant.withColumn(\"postal_code\", regexp_extract(col(\"address\"), r'(\\d+)$', 0))\n",
    "\n",
    "df_participant.printSchema()\n",
    "df_participant.show(5)"
   ]
  },
  {
   "cell_type": "markdown",
   "metadata": {
    "application/vnd.databricks.v1+cell": {
     "cellMetadata": {
      "byteLimit": 2048000,
      "rowLimit": 10000
     },
     "inputWidgets": {},
     "nuid": "611504a8-48b0-43b1-8f37-1ef467c2c537",
     "showTitle": false,
     "title": ""
    }
   },
   "source": [
    "####Transform Part II - City"
   ]
  },
  {
   "cell_type": "code",
   "execution_count": 0,
   "metadata": {
    "application/vnd.databricks.v1+cell": {
     "cellMetadata": {
      "byteLimit": 2048000,
      "rowLimit": 10000
     },
     "inputWidgets": {},
     "nuid": "c647a0e5-a337-4746-9d48-8ad673221e5b",
     "showTitle": false,
     "title": ""
    }
   },
   "outputs": [
    {
     "output_type": "stream",
     "name": "stdout",
     "output_type": "stream",
     "text": [
      "root\n |-- participant_id: string (nullable = true)\n |-- first_name: string (nullable = true)\n |-- last_name: string (nullable = true)\n |-- birth_date: string (nullable = true)\n |-- address: string (nullable = true)\n |-- phone_number: string (nullable = true)\n |-- country: double (nullable = true)\n |-- institute: string (nullable = true)\n |-- occupation: string (nullable = true)\n |-- register_time: string (nullable = true)\n |-- postal_code: string (nullable = true)\n |-- city: string (nullable = true)\n\n+--------------------+------------+------------------+-----------+--------------------+--------------------+-------------+---------+----------+-------------+-----------+----+\n|      participant_id|  first_name|         last_name| birth_date|             address|        phone_number|      country|institute|occupation|register_time|postal_code|city|\n+--------------------+------------+------------------+-----------+--------------------+--------------------+-------------+---------+----------+-------------+-----------+----+\n|bd9b6f88-b84f-4c4...|       Citra|        Nurdiyanti|05 Feb 1991|Gg. Monginsidi No...|                null|         null|     null|      null|         null|         08|    |\n|               Medan| Aceh 80734\"|   (0151) 081 2706|    Georgia|UD Prakasa Mandasari|Business Intellig...|1.617634046E9|     null|      null|         null|           |    |\n|7dfe3391-6f40-47b...|        Aris|          Setiawan|11 Jan 1993|Gg. Rajawali Timu...|                null|         null|     null|      null|         null|          7|    |\n|          Prabumulih|   MA 09434\"|+62 (036) 461 7027|Korea Utara|Universitas Dipon...|   Frontend Engineer|1.617634018E9|     null|      null|         null|           |    |\n|19582d7f-b824-4fe...|    Cornelia|         Handayani|31 Jul 1993|Jalan Kebonjati N...|                null|         null|     null|      null|         null|          0|    |\n+--------------------+------------+------------------+-----------+--------------------+--------------------+-------------+---------+----------+-------------+-----------+----+\nonly showing top 5 rows\n\n"
     ]
    }
   ],
   "source": [
    "# Extract city using regex\n",
    "df_participant = df_participant.withColumn(\"city\", regexp_extract(col(\"address\"), r'(?<=\\n)(\\w.+)(?=,)', 0))\n",
    "\n",
    "df_participant.printSchema()\n",
    "df_participant.show(5)"
   ]
  },
  {
   "cell_type": "markdown",
   "metadata": {
    "application/vnd.databricks.v1+cell": {
     "cellMetadata": {
      "byteLimit": 2048000,
      "rowLimit": 10000
     },
     "inputWidgets": {},
     "nuid": "96cb4aff-d5d5-4221-be7a-3da5072e6edd",
     "showTitle": false,
     "title": ""
    }
   },
   "source": [
    "#### Transform Part III - Github Profile"
   ]
  },
  {
   "cell_type": "code",
   "execution_count": 0,
   "metadata": {
    "application/vnd.databricks.v1+cell": {
     "cellMetadata": {
      "byteLimit": 2048000,
      "rowLimit": 10000
     },
     "inputWidgets": {},
     "nuid": "7fd61b71-6233-453b-b0b5-bba311b734e1",
     "showTitle": false,
     "title": ""
    }
   },
   "outputs": [
    {
     "output_type": "stream",
     "name": "stdout",
     "output_type": "stream",
     "text": [
      "root\n |-- participant_id: string (nullable = true)\n |-- first_name: string (nullable = true)\n |-- last_name: string (nullable = true)\n |-- birth_date: string (nullable = true)\n |-- address: string (nullable = true)\n |-- phone_number: string (nullable = true)\n |-- country: double (nullable = true)\n |-- institute: string (nullable = true)\n |-- occupation: string (nullable = true)\n |-- register_time: string (nullable = true)\n |-- postal_code: string (nullable = true)\n |-- city: string (nullable = true)\n |-- github_profile: string (nullable = true)\n\n+--------------------+------------+------------------+-----------+--------------------+--------------------+-------------+---------+----------+-------------+-----------+----+--------------------+\n|      participant_id|  first_name|         last_name| birth_date|             address|        phone_number|      country|institute|occupation|register_time|postal_code|city|      github_profile|\n+--------------------+------------+------------------+-----------+--------------------+--------------------+-------------+---------+----------+-------------+-----------+----+--------------------+\n|bd9b6f88-b84f-4c4...|       Citra|        Nurdiyanti|05 Feb 1991|Gg. Monginsidi No...|                null|         null|     null|      null|         null|         08|    |https://github.co...|\n|               Medan| Aceh 80734\"|   (0151) 081 2706|    Georgia|UD Prakasa Mandasari|Business Intellig...|1.617634046E9|     null|      null|         null|           |    |https://github.co...|\n|7dfe3391-6f40-47b...|        Aris|          Setiawan|11 Jan 1993|Gg. Rajawali Timu...|                null|         null|     null|      null|         null|          7|    |https://github.co...|\n|          Prabumulih|   MA 09434\"|+62 (036) 461 7027|Korea Utara|Universitas Dipon...|   Frontend Engineer|1.617634018E9|     null|      null|         null|           |    |https://github.co...|\n|19582d7f-b824-4fe...|    Cornelia|         Handayani|31 Jul 1993|Jalan Kebonjati N...|                null|         null|     null|      null|         null|          0|    |https://github.co...|\n+--------------------+------------+------------------+-----------+--------------------+--------------------+-------------+---------+----------+-------------+-----------+----+--------------------+\nonly showing top 5 rows\n\n"
     ]
    }
   ],
   "source": [
    "# Create github_profile URL\n",
    "df_participant = df_participant.withColumn(\"github_profile\", concat(lit(\"https://github.com/\"), lower(col(\"first_name\")), lower(col(\"last_name\"))))\n",
    "\n",
    "df_participant.printSchema()\n",
    "df_participant.show(5)"
   ]
  },
  {
   "cell_type": "markdown",
   "metadata": {
    "application/vnd.databricks.v1+cell": {
     "cellMetadata": {
      "byteLimit": 2048000,
      "rowLimit": 10000
     },
     "inputWidgets": {},
     "nuid": "b402665b-53a9-4459-9d20-67dc49acf559",
     "showTitle": false,
     "title": ""
    }
   },
   "source": [
    "#### Transform Part IV - Cleaned Phone Number"
   ]
  },
  {
   "cell_type": "code",
   "execution_count": 0,
   "metadata": {
    "application/vnd.databricks.v1+cell": {
     "cellMetadata": {
      "byteLimit": 2048000,
      "rowLimit": 10000
     },
     "inputWidgets": {},
     "nuid": "59e3c559-6183-49a9-93d6-21d0b3164c30",
     "showTitle": false,
     "title": ""
    }
   },
   "outputs": [
    {
     "output_type": "stream",
     "name": "stdout",
     "output_type": "stream",
     "text": [
      "root\n |-- participant_id: string (nullable = true)\n |-- first_name: string (nullable = true)\n |-- last_name: string (nullable = true)\n |-- birth_date: string (nullable = true)\n |-- address: string (nullable = true)\n |-- phone_number: string (nullable = true)\n |-- country: double (nullable = true)\n |-- institute: string (nullable = true)\n |-- occupation: string (nullable = true)\n |-- register_time: string (nullable = true)\n |-- postal_code: string (nullable = true)\n |-- city: string (nullable = true)\n |-- github_profile: string (nullable = true)\n |-- cleaned_phone_number: string (nullable = true)\n\n+--------------------+------------+------------------+-----------+--------------------+--------------------+-------------+---------+----------+-------------+-----------+----+--------------------+--------------------+\n|      participant_id|  first_name|         last_name| birth_date|             address|        phone_number|      country|institute|occupation|register_time|postal_code|city|      github_profile|cleaned_phone_number|\n+--------------------+------------+------------------+-----------+--------------------+--------------------+-------------+---------+----------+-------------+-----------+----+--------------------+--------------------+\n|bd9b6f88-b84f-4c4...|       Citra|        Nurdiyanti|05 Feb 1991|Gg. Monginsidi No...|                null|         null|     null|      null|         null|         08|    |https://github.co...|                null|\n|               Medan| Aceh 80734\"|   (0151) 081 2706|    Georgia|UD Prakasa Mandasari|Business Intellig...|1.617634046E9|     null|      null|         null|           |    |https://github.co...|BusinessIntellige...|\n|7dfe3391-6f40-47b...|        Aris|          Setiawan|11 Jan 1993|Gg. Rajawali Timu...|                null|         null|     null|      null|         null|          7|    |https://github.co...|                null|\n|          Prabumulih|   MA 09434\"|+62 (036) 461 7027|Korea Utara|Universitas Dipon...|   Frontend Engineer|1.617634018E9|     null|      null|         null|           |    |https://github.co...|    FrontendEngineer|\n|19582d7f-b824-4fe...|    Cornelia|         Handayani|31 Jul 1993|Jalan Kebonjati N...|                null|         null|     null|      null|         null|          0|    |https://github.co...|                null|\n+--------------------+------------+------------------+-----------+--------------------+--------------------+-------------+---------+----------+-------------+-----------+----+--------------------+--------------------+\nonly showing top 5 rows\n\n"
     ]
    }
   ],
   "source": [
    "# Clean phone number format\n",
    "df_participant = df_participant.withColumn(\"cleaned_phone_number\", regexp_replace(col(\"phone_number\"), r'^(\\+62|62)', '0'))\n",
    "df_participant = df_participant.withColumn(\"cleaned_phone_number\", regexp_replace(col(\"cleaned_phone_number\"), r'[()-]', ''))\n",
    "df_participant = df_participant.withColumn(\"cleaned_phone_number\", regexp_replace(col(\"cleaned_phone_number\"), r'\\s+', ''))\n",
    "\n",
    "df_participant.printSchema()\n",
    "df_participant.show(5)"
   ]
  },
  {
   "cell_type": "markdown",
   "metadata": {
    "application/vnd.databricks.v1+cell": {
     "cellMetadata": {
      "byteLimit": 2048000,
      "rowLimit": 10000
     },
     "inputWidgets": {},
     "nuid": "a1f1dd94-29ab-401b-8c80-12787b2dc19c",
     "showTitle": false,
     "title": ""
    }
   },
   "source": [
    "#### Transform Part V - Team Name"
   ]
  },
  {
   "cell_type": "code",
   "execution_count": 0,
   "metadata": {
    "application/vnd.databricks.v1+cell": {
     "cellMetadata": {
      "byteLimit": 2048000,
      "rowLimit": 10000
     },
     "inputWidgets": {},
     "nuid": "aca9ee62-73c4-4ec5-9022-f8a3d24e6a52",
     "showTitle": false,
     "title": ""
    }
   },
   "outputs": [
    {
     "output_type": "stream",
     "name": "stdout",
     "output_type": "stream",
     "text": [
      "root\n |-- participant_id: string (nullable = true)\n |-- first_name: string (nullable = true)\n |-- last_name: string (nullable = true)\n |-- birth_date: string (nullable = true)\n |-- address: string (nullable = true)\n |-- phone_number: string (nullable = true)\n |-- country: double (nullable = true)\n |-- institute: string (nullable = true)\n |-- occupation: string (nullable = true)\n |-- register_time: string (nullable = true)\n |-- postal_code: string (nullable = true)\n |-- city: string (nullable = true)\n |-- github_profile: string (nullable = true)\n |-- cleaned_phone_number: string (nullable = true)\n |-- team_name: string (nullable = true)\n\n+--------------------+------------+------------------+-----------+--------------------+--------------------+-------------+---------+----------+-------------+-----------+----+--------------------+--------------------+--------------------+\n|      participant_id|  first_name|         last_name| birth_date|             address|        phone_number|      country|institute|occupation|register_time|postal_code|city|      github_profile|cleaned_phone_number|           team_name|\n+--------------------+------------+------------------+-----------+--------------------+--------------------+-------------+---------+----------+-------------+-----------+----+--------------------+--------------------+--------------------+\n|bd9b6f88-b84f-4c4...|       Citra|        Nurdiyanti|05 Feb 1991|Gg. Monginsidi No...|                null|         null|     null|      null|         null|         08|    |https://github.co...|                null|             unknown|\n|               Medan| Aceh 80734\"|   (0151) 081 2706|    Georgia|UD Prakasa Mandasari|Business Intellig...|1.617634046E9|     null|      null|         null|           |    |https://github.co...|BusinessIntellige...| (-1617634046.0-u...|\n|7dfe3391-6f40-47b...|        Aris|          Setiawan|11 Jan 1993|Gg. Rajawali Timu...|                null|         null|     null|      null|         null|          7|    |https://github.co...|                null|             unknown|\n|          Prabumulih|   MA 09434\"|+62 (036) 461 7027|Korea Utara|Universitas Dipon...|   Frontend Engineer|1.617634018E9|     null|      null|         null|           |    |https://github.co...|    FrontendEngineer| +-1617634018.0-u...|\n|19582d7f-b824-4fe...|    Cornelia|         Handayani|31 Jul 1993|Jalan Kebonjati N...|                null|         null|     null|      null|         null|          0|    |https://github.co...|                null|             unknown|\n+--------------------+------------+------------------+-----------+--------------------+--------------------+-------------+---------+----------+-------------+-----------+----+--------------------+--------------------+--------------------+\nonly showing top 5 rows\n\n"
     ]
    }
   ],
   "source": [
    "# Function to create team name\n",
    "def create_team_name(first_name, last_name, country, institute):\n",
    "    if first_name is None or last_name is None or country is None:\n",
    "        return \"unknown\"\n",
    "\n",
    "    abbrev_name = (first_name[0] if first_name else '') + (last_name[0] if last_name else '')\n",
    "    if institute:\n",
    "        abbrev_institute = ''.join([word[0] for word in institute.split()])\n",
    "    else:\n",
    "        abbrev_institute = \"unknown\"\n",
    "    \n",
    "    return f\"{abbrev_name}-{country}-{abbrev_institute}\"\n",
    "\n",
    "# Register the function as a UDF\n",
    "create_team_name_udf = udf(create_team_name, StringType())\n",
    "\n",
    "# Apply the UDF\n",
    "df_participant = df_participant.withColumn(\"team_name\", create_team_name_udf(col(\"first_name\"), col(\"last_name\"), col(\"country\"), col(\"institute\")))\n",
    "\n",
    "df_participant.printSchema()\n",
    "df_participant.show(5)"
   ]
  },
  {
   "cell_type": "markdown",
   "metadata": {
    "application/vnd.databricks.v1+cell": {
     "cellMetadata": {
      "byteLimit": 2048000,
      "rowLimit": 10000
     },
     "inputWidgets": {},
     "nuid": "21b4f01f-d72d-4b8d-91b1-a0d308a5cd3e",
     "showTitle": false,
     "title": ""
    }
   },
   "source": [
    "#### Transform Part VI - Email"
   ]
  },
  {
   "cell_type": "code",
   "execution_count": 0,
   "metadata": {
    "application/vnd.databricks.v1+cell": {
     "cellMetadata": {
      "byteLimit": 2048000,
      "rowLimit": 10000
     },
     "inputWidgets": {},
     "nuid": "2d9beabe-1738-4ec1-9442-2980d8bf59bb",
     "showTitle": false,
     "title": ""
    }
   },
   "outputs": [
    {
     "output_type": "stream",
     "name": "stdout",
     "output_type": "stream",
     "text": [
      "root\n |-- participant_id: string (nullable = true)\n |-- first_name: string (nullable = true)\n |-- last_name: string (nullable = true)\n |-- birth_date: string (nullable = true)\n |-- address: string (nullable = true)\n |-- phone_number: string (nullable = true)\n |-- country: double (nullable = true)\n |-- institute: string (nullable = true)\n |-- occupation: string (nullable = true)\n |-- register_time: string (nullable = true)\n |-- postal_code: string (nullable = true)\n |-- city: string (nullable = true)\n |-- github_profile: string (nullable = true)\n |-- cleaned_phone_number: string (nullable = true)\n |-- team_name: string (nullable = true)\n |-- email: string (nullable = true)\n\n+--------------------+------------+------------------+-----------+--------------------+--------------------+-------------+---------+----------+-------------+-----------+----+--------------------+--------------------+--------------------+--------------------+\n|      participant_id|  first_name|         last_name| birth_date|             address|        phone_number|      country|institute|occupation|register_time|postal_code|city|      github_profile|cleaned_phone_number|           team_name|               email|\n+--------------------+------------+------------------+-----------+--------------------+--------------------+-------------+---------+----------+-------------+-----------+----+--------------------+--------------------+--------------------+--------------------+\n|bd9b6f88-b84f-4c4...|       Citra|        Nurdiyanti|05 Feb 1991|Gg. Monginsidi No...|                null|         null|     null|      null|         null|         08|    |https://github.co...|                null|             unknown|citranurdiyanti@u...|\n|               Medan| Aceh 80734\"|   (0151) 081 2706|    Georgia|UD Prakasa Mandasari|Business Intellig...|1.617634046E9|     null|      null|         null|           |    |https://github.co...|BusinessIntellige...| (-1617634046.0-u...| aceh 80734\"(0151...|\n|7dfe3391-6f40-47b...|        Aris|          Setiawan|11 Jan 1993|Gg. Rajawali Timu...|                null|         null|     null|      null|         null|          7|    |https://github.co...|                null|             unknown|arissetiawan@unkn...|\n|          Prabumulih|   MA 09434\"|+62 (036) 461 7027|Korea Utara|Universitas Dipon...|   Frontend Engineer|1.617634018E9|     null|      null|         null|           |    |https://github.co...|    FrontendEngineer| +-1617634018.0-u...| ma 09434\"+62 (03...|\n|19582d7f-b824-4fe...|    Cornelia|         Handayani|31 Jul 1993|Jalan Kebonjati N...|                null|         null|     null|      null|         null|          0|    |https://github.co...|                null|             unknown|corneliahandayani...|\n+--------------------+------------+------------------+-----------+--------------------+--------------------+-------------+---------+----------+-------------+-----------+----+--------------------+--------------------+--------------------+--------------------+\nonly showing top 5 rows\n\n"
     ]
    }
   ],
   "source": [
    "# Function to create email\n",
    "def create_email(first_name, last_name, institute, country):\n",
    "    first_name_lower = first_name.lower() if first_name else 'unknown'\n",
    "    last_name_lower = last_name.lower() if last_name else 'unknown'\n",
    "    if institute:\n",
    "        abbrev_institute = ''.join([word[0] for word in institute.split()]).lower()\n",
    "        institute_lower = institute.lower()\n",
    "    else:\n",
    "        abbrev_institute = \"unknown\"\n",
    "        institute_lower = \"\"\n",
    "\n",
    "    if 'universitas' in institute_lower:\n",
    "        if country:\n",
    "            if len(country.split()) > 1:\n",
    "                country_code = ''.join([word[0] for word in country.split()]).lower()\n",
    "            else:\n",
    "                country_code = country[:3].lower()\n",
    "        else:\n",
    "            country_code = \"unknown\"\n",
    "        return f\"{first_name_lower}{last_name_lower}@{abbrev_institute}.ac.{country_code}\"\n",
    "    return f\"{first_name_lower}{last_name_lower}@{abbrev_institute}.com\"\n",
    "\n",
    "# Register the function as a UDF\n",
    "create_email_udf = udf(create_email, StringType())\n",
    "\n",
    "# Apply the UDF\n",
    "df_participant = df_participant.withColumn(\"email\", create_email_udf(col(\"first_name\"), col(\"last_name\"), col(\"institute\"), col(\"country\")))\n",
    "\n",
    "df_participant.printSchema()\n",
    "df_participant.show(5)\n"
   ]
  },
  {
   "cell_type": "markdown",
   "metadata": {
    "application/vnd.databricks.v1+cell": {
     "cellMetadata": {
      "byteLimit": 2048000,
      "rowLimit": 10000
     },
     "inputWidgets": {},
     "nuid": "1f943c8b-2fb2-4907-a51c-1f817397f4f9",
     "showTitle": false,
     "title": ""
    }
   },
   "source": [
    "#### Transform Part VII - Birth Date"
   ]
  },
  {
   "cell_type": "code",
   "execution_count": 0,
   "metadata": {
    "application/vnd.databricks.v1+cell": {
     "cellMetadata": {
      "byteLimit": 2048000,
      "rowLimit": 10000
     },
     "inputWidgets": {},
     "nuid": "adf750b5-f3c6-4d47-a6ac-3a429d8971ff",
     "showTitle": false,
     "title": ""
    }
   },
   "outputs": [
    {
     "output_type": "stream",
     "name": "stdout",
     "output_type": "stream",
     "text": [
      "root\n |-- participant_id: string (nullable = true)\n |-- first_name: string (nullable = true)\n |-- last_name: string (nullable = true)\n |-- birth_date: string (nullable = true)\n |-- address: string (nullable = true)\n |-- phone_number: string (nullable = true)\n |-- country: double (nullable = true)\n |-- institute: string (nullable = true)\n |-- occupation: string (nullable = true)\n |-- register_time: string (nullable = true)\n |-- postal_code: string (nullable = true)\n |-- city: string (nullable = true)\n |-- github_profile: string (nullable = true)\n |-- cleaned_phone_number: string (nullable = true)\n |-- team_name: string (nullable = true)\n |-- email: string (nullable = true)\n\n+--------------------+------------+------------------+----------+--------------------+--------------------+-------------+---------+----------+-------------+-----------+----+--------------------+--------------------+--------------------+--------------------+\n|      participant_id|  first_name|         last_name|birth_date|             address|        phone_number|      country|institute|occupation|register_time|postal_code|city|      github_profile|cleaned_phone_number|           team_name|               email|\n+--------------------+------------+------------------+----------+--------------------+--------------------+-------------+---------+----------+-------------+-----------+----+--------------------+--------------------+--------------------+--------------------+\n|bd9b6f88-b84f-4c4...|       Citra|        Nurdiyanti|      null|Gg. Monginsidi No...|                null|         null|     null|      null|         null|         08|    |https://github.co...|                null|             unknown|citranurdiyanti@u...|\n|               Medan| Aceh 80734\"|   (0151) 081 2706|      null|UD Prakasa Mandasari|Business Intellig...|1.617634046E9|     null|      null|         null|           |    |https://github.co...|BusinessIntellige...| (-1617634046.0-u...| aceh 80734\"(0151...|\n|7dfe3391-6f40-47b...|        Aris|          Setiawan|      null|Gg. Rajawali Timu...|                null|         null|     null|      null|         null|          7|    |https://github.co...|                null|             unknown|arissetiawan@unkn...|\n|          Prabumulih|   MA 09434\"|+62 (036) 461 7027|      null|Universitas Dipon...|   Frontend Engineer|1.617634018E9|     null|      null|         null|           |    |https://github.co...|    FrontendEngineer| +-1617634018.0-u...| ma 09434\"+62 (03...|\n|19582d7f-b824-4fe...|    Cornelia|         Handayani|      null|Jalan Kebonjati N...|                null|         null|     null|      null|         null|          0|    |https://github.co...|                null|             unknown|corneliahandayani...|\n+--------------------+------------+------------------+----------+--------------------+--------------------+-------------+---------+----------+-------------+-----------+----+--------------------+--------------------+--------------------+--------------------+\nonly showing top 5 rows\n\n"
     ]
    }
   ],
   "source": [
    "# Convert birth_date to desired format\n",
    "df_participant = df_participant.withColumn(\"birth_date\", date_format(col(\"birth_date\"), \"yyyy-MM-dd\"))\n",
    "\n",
    "df_participant.printSchema()\n",
    "df_participant.show(5)"
   ]
  },
  {
   "cell_type": "markdown",
   "metadata": {
    "application/vnd.databricks.v1+cell": {
     "cellMetadata": {
      "byteLimit": 2048000,
      "rowLimit": 10000
     },
     "inputWidgets": {},
     "nuid": "362faa9e-09af-4462-a3f3-5882bbd8ea5d",
     "showTitle": false,
     "title": ""
    }
   },
   "source": [
    "#### Transform Part VIII - Register Time"
   ]
  },
  {
   "cell_type": "code",
   "execution_count": 0,
   "metadata": {
    "application/vnd.databricks.v1+cell": {
     "cellMetadata": {
      "byteLimit": 2048000,
      "rowLimit": 10000
     },
     "inputWidgets": {},
     "nuid": "b7a8a5be-15ac-40df-9496-eec4083b1886",
     "showTitle": false,
     "title": ""
    }
   },
   "outputs": [
    {
     "output_type": "stream",
     "name": "stdout",
     "output_type": "stream",
     "text": [
      "root\n |-- participant_id: string (nullable = true)\n |-- first_name: string (nullable = true)\n |-- last_name: string (nullable = true)\n |-- birth_date: string (nullable = true)\n |-- address: string (nullable = true)\n |-- phone_number: string (nullable = true)\n |-- country: double (nullable = true)\n |-- institute: string (nullable = true)\n |-- occupation: string (nullable = true)\n |-- register_time: string (nullable = true)\n |-- postal_code: string (nullable = true)\n |-- city: string (nullable = true)\n |-- github_profile: string (nullable = true)\n |-- cleaned_phone_number: string (nullable = true)\n |-- team_name: string (nullable = true)\n |-- email: string (nullable = true)\n |-- register_at: string (nullable = true)\n\n+--------------------+------------+------------------+----------+--------------------+--------------------+-------------+---------+----------+-------------+-----------+----+--------------------+--------------------+--------------------+--------------------+-----------+\n|      participant_id|  first_name|         last_name|birth_date|             address|        phone_number|      country|institute|occupation|register_time|postal_code|city|      github_profile|cleaned_phone_number|           team_name|               email|register_at|\n+--------------------+------------+------------------+----------+--------------------+--------------------+-------------+---------+----------+-------------+-----------+----+--------------------+--------------------+--------------------+--------------------+-----------+\n|bd9b6f88-b84f-4c4...|       Citra|        Nurdiyanti|      null|Gg. Monginsidi No...|                null|         null|     null|      null|         null|         08|    |https://github.co...|                null|             unknown|citranurdiyanti@u...|       null|\n|               Medan| Aceh 80734\"|   (0151) 081 2706|      null|UD Prakasa Mandasari|Business Intellig...|1.617634046E9|     null|      null|         null|           |    |https://github.co...|BusinessIntellige...| (-1617634046.0-u...| aceh 80734\"(0151...|       null|\n|7dfe3391-6f40-47b...|        Aris|          Setiawan|      null|Gg. Rajawali Timu...|                null|         null|     null|      null|         null|          7|    |https://github.co...|                null|             unknown|arissetiawan@unkn...|       null|\n|          Prabumulih|   MA 09434\"|+62 (036) 461 7027|      null|Universitas Dipon...|   Frontend Engineer|1.617634018E9|     null|      null|         null|           |    |https://github.co...|    FrontendEngineer| +-1617634018.0-u...| ma 09434\"+62 (03...|       null|\n|19582d7f-b824-4fe...|    Cornelia|         Handayani|      null|Jalan Kebonjati N...|                null|         null|     null|      null|         null|          0|    |https://github.co...|                null|             unknown|corneliahandayani...|       null|\n+--------------------+------------+------------------+----------+--------------------+--------------------+-------------+---------+----------+-------------+-----------+----+--------------------+--------------------+--------------------+--------------------+-----------+\nonly showing top 5 rows\n\n"
     ]
    }
   ],
   "source": [
    "# Convert register_time to datetime format\n",
    "df_participant = df_participant.withColumn(\"register_at\", date_format((col(\"register_time\").cast(\"timestamp\")), \"yyyy-MM-dd HH:mm:ss\"))\n",
    "\n",
    "df_participant.printSchema()\n",
    "df_participant.show(5)"
   ]
  },
  {
   "cell_type": "markdown",
   "metadata": {
    "application/vnd.databricks.v1+cell": {
     "cellMetadata": {},
     "inputWidgets": {},
     "nuid": "c4bb3548-3291-4001-8ad4-173ff0e46396",
     "showTitle": false,
     "title": ""
    }
   },
   "source": [
    "## Load Data into SQL Database"
   ]
  },
  {
   "cell_type": "code",
   "execution_count": 0,
   "metadata": {
    "application/vnd.databricks.v1+cell": {
     "cellMetadata": {},
     "inputWidgets": {},
     "nuid": "1a27320f-3695-422d-a80f-866ef6009121",
     "showTitle": false,
     "title": ""
    }
   },
   "outputs": [],
   "source": [
    "# Save to SQL Database\n",
    "df_participant.write.format(\"jdbc\").options(\n",
    "    url=\"jdbc:mysql://your-database-url:3306/your-database-name\",\n",
    "    driver=\"com.mysql.jdbc.Driver\",\n",
    "    dbtable=\"dqthon_participants\",\n",
    "    user=\"your-username\",\n",
    "    password=\"your-password\"\n",
    ").mode(\"overwrite\").save()"
   ]
  }
 ],
 "metadata": {
  "application/vnd.databricks.v1+notebook": {
   "dashboards": [],
   "environmentMetadata": null,
   "language": "python",
   "notebookMetadata": {
    "pythonIndentUnit": 4
   },
   "notebookName": "DQThon_Participants_ETL",
   "widgets": {}
  }
 },
 "nbformat": 4,
 "nbformat_minor": 0
}
